{
 "cells": [
  {
   "cell_type": "markdown",
   "id": "94b36820",
   "metadata": {},
   "source": [
    "# Data Science Tools and Ecosystem"
   ]
  },
  {
   "cell_type": "markdown",
   "id": "8d1f747a",
   "metadata": {},
   "source": [
    "In this notebook, Data Science Tools and Ecosystem are summarize to fulfill requirements for the Tools for Data Science part of the IBM Data Science Professional Certificate."
   ]
  },
  {
   "cell_type": "markdown",
   "id": "c8b48177",
   "metadata": {},
   "source": [
    "__Objectives:__\n",
    "- List popular languages for data science\n",
    "- List commonly used libraries for data science\n",
    "- List common tools of data science\n",
    "- Demonstrate markdown elements such as unordered lists, headings, and tables\n",
    "- Demonstrate evaluating simple expressions in a Jupyter Notebook with Python"
   ]
  },
  {
   "cell_type": "markdown",
   "id": "f0a606f1",
   "metadata": {},
   "source": [
    "Here are some popular languages that Data Scientists use:\n",
    "- Python\n",
    "- R\n",
    "- SQL\n",
    "- Julia\n"
   ]
  },
  {
   "cell_type": "markdown",
   "id": "a73eea9a",
   "metadata": {},
   "source": [
    "Here are some of the libraries commonly used by Data Scientists: \n",
    "- NumPy\n",
    "- Pandas\n",
    "- Matplotlib\n",
    "- SciPy\n",
    "- Seaborn\n",
    "- Scikit-learn"
   ]
  },
  {
   "cell_type": "markdown",
   "id": "7e73a19f",
   "metadata": {},
   "source": [
    "| Data Science Tools | \n",
    "| :--|\n",
    "| Jupyter Notebooks and Jupyter Lab|\n",
    "| R Studio | \n",
    "| Git and GitHub | \n"
   ]
  },
  {
   "cell_type": "markdown",
   "id": "d1a683a1",
   "metadata": {},
   "source": [
    "### Below are a few examples of evaluating arithmetic expressions using Python."
   ]
  },
  {
   "cell_type": "code",
   "execution_count": 1,
   "id": "b100613c",
   "metadata": {},
   "outputs": [
    {
     "data": {
      "text/plain": [
       "17"
      ]
     },
     "execution_count": 1,
     "metadata": {},
     "output_type": "execute_result"
    }
   ],
   "source": [
    "# This expression multiplies two integers, and then adds another integer.\n",
    "(3*4)+5"
   ]
  },
  {
   "cell_type": "code",
   "execution_count": 2,
   "id": "ceed844e",
   "metadata": {},
   "outputs": [
    {
     "data": {
      "text/plain": [
       "3.3333333333333335"
      ]
     },
     "execution_count": 2,
     "metadata": {},
     "output_type": "execute_result"
    }
   ],
   "source": [
    "# This cell will convert 200 minutes to hours, by dividing by 60.\n",
    "200/60"
   ]
  },
  {
   "cell_type": "markdown",
   "id": "9a79cf98",
   "metadata": {},
   "source": [
    "## Author\n",
    "S. K. Oelker"
   ]
  },
  {
   "cell_type": "code",
   "execution_count": null,
   "id": "15a734b7",
   "metadata": {},
   "outputs": [],
   "source": []
  }
 ],
 "metadata": {
  "kernelspec": {
   "display_name": "Python 3 (ipykernel)",
   "language": "python",
   "name": "python3"
  },
  "language_info": {
   "codemirror_mode": {
    "name": "ipython",
    "version": 3
   },
   "file_extension": ".py",
   "mimetype": "text/x-python",
   "name": "python",
   "nbconvert_exporter": "python",
   "pygments_lexer": "ipython3",
   "version": "3.10.9"
  }
 },
 "nbformat": 4,
 "nbformat_minor": 5
}
